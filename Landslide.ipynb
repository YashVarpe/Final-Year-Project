{
  "cells": [
    {
      "cell_type": "code",
      "execution_count": null,
      "metadata": {
        "id": "KcQeoERMqPz2"
      },
      "outputs": [],
      "source": [
        "from numpy import mean\n",
        "from numpy import std\n",
        "from sklearn.ensemble import GradientBoostingClassifier\n",
        "from sklearn.model_selection import cross_val_score\n",
        "from sklearn.model_selection import RepeatedStratifiedKFold\n",
        "import matplotlib.pyplot as plt\n",
        "import seaborn as sns\n",
        "import pandas as pd\n",
        "from sklearn.neighbors import KNeighborsClassifier\n",
        "from sklearn.metrics import matthews_corrcoef\n",
        "from sklearn.metrics import f1_score\n",
        "from sklearn.metrics import accuracy_score\n",
        "from sklearn.metrics import recall_score\n",
        "from sklearn.metrics import precision_score\n",
        "from sklearn.metrics import precision_recall_curve\n",
        "from sklearn.metrics import roc_auc_score\n",
        "from sklearn.metrics import classification_report\n",
        "from sklearn.model_selection import GridSearchCV"
      ]
    },
    {
      "cell_type": "code",
      "execution_count": null,
      "metadata": {
        "colab": {
          "base_uri": "https://localhost:8080/"
        },
        "id": "FCA4UMwNqqti",
        "outputId": "2ec28689-c2ec-4812-b819-922866de389d"
      },
      "outputs": [],
      "source": [
        "#pip install 'lightgbm[pandas]'"
      ]
    },
    {
      "cell_type": "code",
      "execution_count": null,
      "metadata": {
        "colab": {
          "base_uri": "https://localhost:8080/",
          "height": 73
        },
        "id": "tjVjGDyjq1l-",
        "outputId": "bff683bd-4562-42e5-aff6-55cd31a34347"
      },
      "outputs": [],
      "source": [
        "df = pd.read_csv(\"Complete-data.csv\")\n",
        "df"
      ]
    },
    {
      "cell_type": "code",
      "execution_count": null,
      "metadata": {
        "colab": {
          "base_uri": "https://localhost:8080/",
          "height": 206
        },
        "id": "FCLY2h5-ry1T",
        "outputId": "0c82ecc2-339c-403e-a100-b6a0b45d355e"
      },
      "outputs": [],
      "source": [
        "df.drop(columns=['Landslide'])"
      ]
    },
    {
      "cell_type": "markdown",
      "metadata": {
        "id": "o9ovflvfsnKk"
      },
      "source": [
        "# **EDA**"
      ]
    },
    {
      "cell_type": "code",
      "execution_count": null,
      "metadata": {
        "colab": {
          "base_uri": "https://localhost:8080/",
          "height": 206
        },
        "id": "nzgNoA2_xW-D",
        "outputId": "b48f4397-0b1c-4dab-f956-e5ccd53c0f82"
      },
      "outputs": [],
      "source": [
        "df.head()"
      ]
    },
    {
      "cell_type": "code",
      "execution_count": null,
      "metadata": {
        "colab": {
          "base_uri": "https://localhost:8080/"
        },
        "id": "e_fuR8gJsywn",
        "outputId": "d4ce599c-1961-4176-8648-f71b08be249d"
      },
      "outputs": [],
      "source": [
        "df.info()"
      ]
    },
    {
      "cell_type": "code",
      "execution_count": null,
      "metadata": {
        "colab": {
          "base_uri": "https://localhost:8080/",
          "height": 300
        },
        "id": "tUFY5wI8suTc",
        "outputId": "47df7e3f-b348-4ff5-a9a2-dbfd7bbe3b78"
      },
      "outputs": [],
      "source": [
        "df.describe()"
      ]
    },
    {
      "cell_type": "code",
      "execution_count": null,
      "metadata": {
        "id": "Rgn0A0Qps5yZ"
      },
      "outputs": [],
      "source": [
        "temp_cols=df.columns.tolist()\n",
        "new_cols=temp_cols[1:] + temp_cols[0:1]\n",
        "df=df[new_cols]"
      ]
    },
    {
      "cell_type": "code",
      "execution_count": null,
      "metadata": {
        "colab": {
          "base_uri": "https://localhost:8080/",
          "height": 300
        },
        "id": "hCctgOhdtBv1",
        "outputId": "eede96c1-0a18-41d0-a7c7-22a56a52ef57"
      },
      "outputs": [],
      "source": [
        "df.describe().round(2)"
      ]
    },
    {
      "cell_type": "code",
      "execution_count": null,
      "metadata": {
        "colab": {
          "base_uri": "https://localhost:8080/"
        },
        "id": "uCzM6-XxtEQw",
        "outputId": "0eae2d20-c3b7-4a0b-c376-7dcb57465f79"
      },
      "outputs": [],
      "source": [
        "for column in df.columns[0:]:\n",
        "    print(column, ': ', len(df[column].unique()), ' labels')"
      ]
    },
    {
      "cell_type": "code",
      "execution_count": null,
      "metadata": {
        "colab": {
          "base_uri": "https://localhost:8080/",
          "height": 497
        },
        "id": "idpvvsDztKDW",
        "outputId": "65ba215d-ec86-4c58-81fb-f64cac1fcab8"
      },
      "outputs": [],
      "source": [
        "landslide_count = df['Landslide'].value_counts()\n",
        "sns.set(style=\"darkgrid\")\n",
        "sns.countplot(x = 'Landslide', data = df)\n",
        "plt.title('Frequency Distribution of Landslides')\n",
        "plt.ylabel('Number of Occurrences', fontsize=12)\n",
        "plt.xlabel('Landslide', fontsize=12)\n"
      ]
    },
    {
      "cell_type": "code",
      "execution_count": null,
      "metadata": {
        "colab": {
          "base_uri": "https://localhost:8080/",
          "height": 497
        },
        "id": "imFmnOrQtSD8",
        "outputId": "fd4603fb-508a-4588-83a0-f0fa0606b8fa"
      },
      "outputs": [],
      "source": [
        "perc_count = df['Precipitation'].value_counts()\n",
        "sns.set(style=\"darkgrid\")\n",
        "sns.barplot(perc_count.index)\n",
        "plt.title('Frequency Distribution of Precipitation')\n",
        "plt.ylabel('Number of Occurrences', fontsize=12)\n",
        "plt.xlabel('Precipitation', fontsize=12)\n",
        "plt.show()\n",
        "\n",
        "plt.savefig('bar2.eps', format='eps')"
      ]
    },
    {
      "cell_type": "code",
      "execution_count": null,
      "metadata": {
        "colab": {
          "base_uri": "https://localhost:8080/",
          "height": 497
        },
        "id": "kEfFD9xSuCFp",
        "outputId": "ae34f024-f6e0-4fca-ae4e-fd7451832049"
      },
      "outputs": [],
      "source": [
        "lith_count = df['Lithology'].value_counts()\n",
        "sns.set(style=\"darkgrid\")\n",
        "sns.barplot(lith_count.index)\n",
        "plt.title('Frequency Distribution of Lithology')\n",
        "plt.ylabel('Number of Occurrences', fontsize=12)\n",
        "plt.xlabel('Lithology', fontsize=12)\n",
        "plt.show()\n",
        "\n",
        "plt.savefig('bar3.eps', format='eps')"
      ]
    },
    {
      "cell_type": "code",
      "execution_count": null,
      "metadata": {
        "colab": {
          "base_uri": "https://localhost:8080/",
          "height": 448
        },
        "id": "FRbBpDVRvHFg",
        "outputId": "33b4704c-4b64-476f-a126-9f0258a034f1"
      },
      "outputs": [],
      "source": [
        "labels = df['Plan'].astype('category').cat.categories.tolist()\n",
        "counts = df['Plan'].value_counts()\n",
        "sizes = [counts[var_cat] for var_cat in labels]\n",
        "fig1, ax1 = plt.subplots()\n",
        "ax1.pie(sizes, labels=labels, autopct='%1.1f%%', shadow=True) #autopct  show the % on plot\n",
        "ax1.axis('equal')\n",
        "plt.title('Pieplot of Plan')\n",
        "plt.show()\n",
        "\n",
        "plt.savefig('pie1.eps', format='eps')"
      ]
    },
    {
      "cell_type": "code",
      "execution_count": null,
      "metadata": {
        "colab": {
          "base_uri": "https://localhost:8080/",
          "height": 453
        },
        "id": "gIJSqTFKvOjW",
        "outputId": "77a1e086-fd75-4b0f-b3bf-0e9e166ddcb0"
      },
      "outputs": [],
      "source": [
        "labels = df['Flow'].astype('category').cat.categories.tolist()\n",
        "counts = df['Flow'].value_counts()\n",
        "sizes = [counts[var_cat] for var_cat in labels]\n",
        "fig1, ax1 = plt.subplots()\n",
        "ax1.pie(sizes, labels=labels, autopct='%1.1f%%', shadow=True) #autopct is show the % on plot\n",
        "ax1.axis('equal')\n",
        "plt.title('Pieplot of Flow')\n",
        "plt.show()\n",
        "\n",
        "plt.savefig('pie2.eps', format='eps')"
      ]
    },
    {
      "cell_type": "code",
      "execution_count": null,
      "metadata": {
        "colab": {
          "base_uri": "https://localhost:8080/",
          "height": 445
        },
        "id": "5QaQzIIhvWIo",
        "outputId": "43b24701-8d1f-4f09-e22e-57769917dde0"
      },
      "outputs": [],
      "source": [
        "labels = df['Curvature'].astype('category').cat.categories.tolist()\n",
        "counts = df['Curvature'].value_counts()\n",
        "sizes = [counts[var_cat] for var_cat in labels]\n",
        "fig1, ax1 = plt.subplots()\n",
        "ax1.pie(sizes, labels=labels, autopct='%1.1f%%', shadow=True) #autopct is used to show the % on plot\n",
        "ax1.axis('equal')\n",
        "plt.title('Pieplot of Curvature')\n",
        "plt.show()\n",
        "\n",
        "plt.savefig('pie3.eps', format='eps')"
      ]
    },
    {
      "cell_type": "code",
      "execution_count": null,
      "metadata": {
        "colab": {
          "base_uri": "https://localhost:8080/",
          "height": 1000
        },
        "id": "sRi_gKPXweDl",
        "outputId": "b78b84be-0a93-40c3-b22e-b44c95a60079"
      },
      "outputs": [],
      "source": [
        "plt.figure(figsize=(12, 12))\n",
        "sns.heatmap(df.corr(), annot=True)\n",
        "\n",
        "plt.show()\n",
        "\n",
        "plt.savefig('corr1.eps', format='eps')"
      ]
    },
    {
      "cell_type": "code",
      "execution_count": null,
      "metadata": {
        "colab": {
          "base_uri": "https://localhost:8080/"
        },
        "id": "xkLO7Mylxhhh",
        "outputId": "16ec3d14-bf28-4a8b-b981-b785cd6804c1"
      },
      "outputs": [],
      "source": [
        "df.mean()"
      ]
    },
    {
      "cell_type": "code",
      "execution_count": null,
      "metadata": {
        "colab": {
          "base_uri": "https://localhost:8080/",
          "height": 143
        },
        "id": "ScB7y02lxm6N",
        "outputId": "cefc0c0e-a09a-4a37-9439-18ab6bd9c21c"
      },
      "outputs": [],
      "source": [
        "df.groupby(['Landslide']).mean()"
      ]
    },
    {
      "cell_type": "code",
      "execution_count": null,
      "metadata": {
        "colab": {
          "base_uri": "https://localhost:8080/",
          "height": 457
        },
        "id": "r3rqZhB-xz_u",
        "outputId": "856e6234-a7e8-4af3-baa4-3f084424404b"
      },
      "outputs": [],
      "source": [
        "df.corr()"
      ]
    },
    {
      "cell_type": "markdown",
      "metadata": {
        "id": "7B8HQ1SAx9pO"
      },
      "source": [
        "# Important Features using Mutual Information Classification¶"
      ]
    },
    {
      "cell_type": "code",
      "execution_count": null,
      "metadata": {
        "id": "Vcv3j3TIx_1T"
      },
      "outputs": [],
      "source": [
        "from sklearn.model_selection import train_test_split, StratifiedKFold\n",
        "from sklearn.feature_selection import mutual_info_classif\n",
        "from sklearn.model_selection import GridSearchCV"
      ]
    },
    {
      "cell_type": "code",
      "execution_count": null,
      "metadata": {
        "id": "6PkenquTyCiP"
      },
      "outputs": [],
      "source": [
        "train_ratio = 0.8\n",
        "val_ratio = 0.2\n",
        "train_df, val_df = train_test_split(df, train_size = train_ratio, random_state=1)"
      ]
    },
    {
      "cell_type": "code",
      "execution_count": null,
      "metadata": {
        "id": "4Ls-_jeXyGRk"
      },
      "outputs": [],
      "source": [
        "features = list(df.columns.values.tolist())\n",
        "df_feat = df.iloc[:, :-1]\n",
        "features_wo = list(df_feat.columns.values.tolist())"
      ]
    },
    {
      "cell_type": "code",
      "execution_count": null,
      "metadata": {
        "colab": {
          "base_uri": "https://localhost:8080/"
        },
        "id": "qfGciOIkyLst",
        "outputId": "20696e40-6fb1-400d-834e-45d33cf39232"
      },
      "outputs": [],
      "source": [
        "df_feat.info()"
      ]
    },
    {
      "cell_type": "code",
      "execution_count": null,
      "metadata": {},
      "outputs": [],
      "source": [
        "MI = mutual_info_classif(df[features_wo], df[\"Landslide\"], n_neighbors=20, random_state=42)\n",
        "\n",
        "plt.figure(figsize=(5.4, 6))\n",
        "plt.barh(width=MI, y=features_wo, color=\"#990303\") \n",
        "plt.title(\"Mutual Information w.r.t. Landslide\")\n",
        "plt.xlabel(\"Landslide\")\n",
        "plt.gca().xaxis.grid(True, linestyle=':')\n",
        "plt.tight_layout()\n",
        "\n",
        "plt.savefig('mi.eps', format='eps')\n"
      ]
    },
    {
      "cell_type": "code",
      "execution_count": null,
      "metadata": {
        "id": "qWAXMfx_ykEs"
      },
      "outputs": [],
      "source": [
        "best3 = ['Precipitation', 'Earthquake', 'Aspect']\n",
        "best5 = ['Lithology', 'Flow']\n",
        "best5.extend(best3)\n",
        "best8 = ['Profile', 'NDWI', 'NDVI']\n",
        "best8.extend(best5)\n",
        "all_feat = features_wo\n",
        "\n",
        "feat  = [best3, best5, best8, all_feat]"
      ]
    },
    {
      "cell_type": "code",
      "execution_count": null,
      "metadata": {
        "colab": {
          "base_uri": "https://localhost:8080/"
        },
        "id": "d_HPZKqfyc_0",
        "outputId": "011d7773-3769-4395-8aa7-0d4c84fab2e7"
      },
      "outputs": [],
      "source": [
        "for i in feat:\n",
        "    print(df[i].head(2))"
      ]
    },
    {
      "cell_type": "markdown",
      "metadata": {
        "id": "5BX9-AvqytX3"
      },
      "source": [
        "# Feature Engineering!"
      ]
    },
    {
      "cell_type": "code",
      "execution_count": null,
      "metadata": {
        "colab": {
          "base_uri": "https://localhost:8080/",
          "height": 206
        },
        "id": "lpF7epwdyxBH",
        "outputId": "4501a8df-591f-4d9f-b4f7-f7fbf8711e48"
      },
      "outputs": [],
      "source": [
        "df.head()"
      ]
    },
    {
      "cell_type": "markdown",
      "metadata": {
        "id": "1tdQbPLP4Q3d"
      },
      "source": [
        "Feature **Selection**   "
      ]
    },
    {
      "cell_type": "code",
      "execution_count": null,
      "metadata": {
        "id": "w6B2DEKx4TeA"
      },
      "outputs": [],
      "source": [
        "from matplotlib.colors import ListedColormap\n",
        "from sklearn.model_selection import train_test_split\n",
        "from sklearn.preprocessing import StandardScaler\n",
        "from sklearn.datasets import make_moons, make_circles, make_classification\n",
        "from sklearn.linear_model import LogisticRegression\n",
        "from sklearn.model_selection import GridSearchCV\n",
        "from sklearn.pipeline import make_pipeline\n",
        "from sklearn.svm import SVC, LinearSVC\n",
        "from sklearn.ensemble import GradientBoostingClassifier\n",
        "from sklearn.utils._testing import ignore_warnings\n",
        "from sklearn.exceptions import ConvergenceWarning\n",
        "from sklearn import ensemble\n",
        "from sklearn.feature_selection import mutual_info_classif\n",
        "from sklearn.model_selection import GridSearchCV"
      ]
    },
    {
      "cell_type": "code",
      "execution_count": null,
      "metadata": {
        "colab": {
          "base_uri": "https://localhost:8080/"
        },
        "id": "Tf6Qobih4eGr",
        "outputId": "f2ece535-b639-42de-aa9e-6b122572115e"
      },
      "outputs": [],
      "source": [
        "from pca import pca\n",
        "\n",
        "X_pca = df.loc[:, df.columns != 'Landslide']\n",
        "\n",
        "model = pca()\n",
        "out = model.fit_transform(X_pca)\n",
        "out = model.transform(X_pca)\n",
        "print(pd.DataFrame(out, columns=['PC1', 'PC2', 'PC3','PC4','PC5','PC6','PC7','PC8','PC9']))\n",
        "print(out)"
      ]
    },
    {
      "cell_type": "code",
      "execution_count": null,
      "metadata": {
        "colab": {
          "base_uri": "https://localhost:8080/",
          "height": 923
        },
        "id": "P4xe9LD34gTk",
        "outputId": "3ec40b00-ec54-4254-bbcd-07cf9935e39c"
      },
      "outputs": [],
      "source": [
        "model.plot()\n",
        "\n",
        "plt.savefig('pca1.eps', format='eps')"
      ]
    },
    {
      "cell_type": "markdown",
      "metadata": {
        "id": "sQ0DD9fQ6o_I"
      },
      "source": [
        "# Baseline ***Model***"
      ]
    },
    {
      "cell_type": "code",
      "execution_count": null,
      "metadata": {
        "id": "oUiicRQI6uXB"
      },
      "outputs": [],
      "source": [
        "y = df.Landslide\n",
        "df1 = df.loc[:, df.columns != 'Landslide']\n",
        "\n",
        "X_train, X_test, y_train, y_test = train_test_split(df1, y, test_size=0.2)\n"
      ]
    },
    {
      "cell_type": "code",
      "execution_count": null,
      "metadata": {
        "colab": {
          "base_uri": "https://localhost:8080/"
        },
        "id": "6qAAGlGx6xJf",
        "outputId": "58ca9317-f0bc-4588-8a21-f17fc444edd9"
      },
      "outputs": [],
      "source": [
        "baseline_gbm = GradientBoostingClassifier(learning_rate=0.1, n_estimators=100,max_depth=3, min_samples_split=2,\n",
        "                                          min_samples_leaf=1, subsample=1,max_features='sqrt', random_state=10)\n",
        "baseline_gbm.fit(X_train,y_train)\n",
        "predictors_gbm=list(X_train)\n",
        "\n",
        "print('Accuracy of the GBM on test set: {:.3f}'.format(baseline_gbm.score(X_test, y_test)))\n",
        "pred_gbm=baseline_gbm.predict(X_test)\n",
        "print(classification_report(y_test, pred_gbm))\n"
      ]
    },
    {
      "cell_type": "code",
      "execution_count": null,
      "metadata": {
        "colab": {
          "base_uri": "https://localhost:8080/"
        },
        "id": "St1MZqbK66KH",
        "outputId": "47c4e086-56e3-4ff7-ad27-b172a1f7d9a4"
      },
      "outputs": [],
      "source": [
        "from lightgbm import LGBMClassifier\n",
        "baseline_lgbm = LGBMClassifier(learning_rate=0.1, n_estimators=100,max_depth=3,\n",
        "                          #min_samples_split=2,\n",
        "                          min_samples_leaf=1, subsample=1,\n",
        "                          #max_features='sqrt',\n",
        "                          random_state=10)\n",
        "baseline_lgbm.fit(X_train,y_train)\n",
        "predictors_lgbm=list(X_train)\n",
        "\n",
        "print('Accuracy of the LGBM on test set: {:.3f}'.format(baseline_lgbm.score(X_test, y_test)))\n",
        "pred_lgbm=baseline_lgbm.predict(X_test)\n",
        "print(classification_report(y_test, pred_lgbm))"
      ]
    },
    {
      "cell_type": "code",
      "execution_count": null,
      "metadata": {
        "id": "COknmwd46-95"
      },
      "outputs": [],
      "source": [
        "from sklearn.ensemble import RandomForestClassifier\n",
        "from sklearn.metrics import classification_report"
      ]
    },
    {
      "cell_type": "code",
      "execution_count": null,
      "metadata": {
        "id": "3b0a8Tqp7Cfv"
      },
      "outputs": [],
      "source": [
        "# Create a Random Forest Classifier\n",
        "random_forest = RandomForestClassifier(n_estimators=100, max_depth=3, random_state=42)"
      ]
    },
    {
      "cell_type": "code",
      "execution_count": null,
      "metadata": {},
      "outputs": [],
      "source": [
        "!pip install tabulate"
      ]
    },
    {
      "cell_type": "code",
      "execution_count": null,
      "metadata": {
        "colab": {
          "base_uri": "https://localhost:8080/"
        },
        "id": "HVuLMfXo7Fp0",
        "outputId": "2448608a-c53b-452c-c5fa-9d8c1349cbb9"
      },
      "outputs": [],
      "source": [
        "from tabulate import  tabulate\n",
        "\n",
        "# Fit the model to the training data\n",
        "random_forest.fit(X_train, y_train)\n",
        "\n",
        "# Make predictions on the test set\n",
        "pred_rf = random_forest.predict(X_test)\n",
        "table = [[i+1, pred_rf[i]] for i in range(len(y_test))]\n",
        "print(tabulate(table, headers=['Id', 'Prediction'], tablefmt='grid'))\n",
        "# Calculate and print the accuracy\n",
        "accuracy_rf = random_forest.score(X_test, y_test)\n",
        "print('Accuracy of the Random Forest on test set: {:.3f}'.format(accuracy_rf))\n",
        "\n",
        "# Generate and print the classification report\n",
        "print(classification_report(y_test, pred_rf))"
      ]
    },
    {
      "cell_type": "code",
      "execution_count": null,
      "metadata": {},
      "outputs": [],
      "source": [
        "!pip install xgboost"
      ]
    },
    {
      "cell_type": "code",
      "execution_count": null,
      "metadata": {
        "colab": {
          "base_uri": "https://localhost:8080/"
        },
        "id": "xViJK9gW7KGN",
        "outputId": "72980f16-68c8-4ff2-8653-7b606a04cc77"
      },
      "outputs": [],
      "source": [
        "import xgboost as xgb\n",
        "from sklearn.metrics import classification_report\n",
        "\n",
        "# Create an XGBoost Classifier\n",
        "xgb_classifier = xgb.XGBClassifier(\n",
        "    learning_rate=0.1,\n",
        "    n_estimators=100,\n",
        "    max_depth=3,\n",
        "    min_child_weight=1,\n",
        "    gamma=0,\n",
        "    subsample=1,\n",
        "    colsample_bytree=1,\n",
        "    objective='binary:logistic',  # For binary classification\n",
        "    random_state=10\n",
        ")\n",
        "\n",
        "# Fit the model to the training data\n",
        "xgb_classifier.fit(X_train, y_train)\n",
        "\n",
        "# Make predictions on the test set\n",
        "pred_xgb = xgb_classifier.predict(X_test)\n",
        "from tabulate import tabulate\n",
        "y_pred = xgb_classifier.predict(X_test)\n",
        "headers = ['Index', 'Predicted Label']\n",
        "table = [[i, labels] for i, labels in enumerate(y_pred, start=1)]\n",
        "print(tabulate(table, headers=headers, tablefmt='grid'))\n",
        "\n",
        "# Calculate and print the accuracy\n",
        "accuracy_xgb = xgb_classifier.score(X_test, y_test)\n",
        "print('Accuracy of XGBoost on test set: {:.3f}'.format(accuracy_xgb))\n",
        "\n",
        "# Generate and print the classification report\n",
        "print(classification_report(y_test, pred_xgb))"
      ]
    },
    {
      "cell_type": "code",
      "execution_count": null,
      "metadata": {
        "colab": {
          "base_uri": "https://localhost:8080/"
        },
        "id": "QoyUPwDz7Syj",
        "outputId": "ac1b36b7-222b-4344-ebd6-366574dc5b2a"
      },
      "outputs": [],
      "source": [
        "from sklearn.ensemble import VotingClassifier\n",
        "from sklearn.ensemble import GradientBoostingClassifier, RandomForestClassifier\n",
        "from sklearn.metrics import classification_report\n",
        "\n",
        "# Define individual models\n",
        "gbm_model = GradientBoostingClassifier(\n",
        "    learning_rate=0.1,\n",
        "    n_estimators=100,\n",
        "    max_depth=3,\n",
        "    min_samples_split=2,\n",
        "    min_samples_leaf=1,\n",
        "    subsample=1,\n",
        "    max_features='sqrt',\n",
        "    random_state=10\n",
        ")\n",
        "\n",
        "rf_model = RandomForestClassifier(\n",
        "    n_estimators=100,\n",
        "    max_depth=3,\n",
        "    random_state=10\n",
        ")\n",
        "\n",
        "# Create an ensemble of models\n",
        "ensemble_model = VotingClassifier(\n",
        "    estimators=[\n",
        "        ('gbm', gbm_model),\n",
        "        ('rf', rf_model),\n",
        "        # Add more models here if desired\n",
        "    ],\n",
        "    voting='soft'  # 'soft' for weighted voting based on probabilities\n",
        ")\n",
        "\n",
        "# Fit the ensemble model on the training data\n",
        "ensemble_model.fit(X_train, y_train)\n",
        "\n",
        "# Make predictions on the test set\n",
        "pred_ensemble = ensemble_model.predict(X_test)\n",
        "headers = ['Index', 'Landslide Occurence']\n",
        "table = [[i, labels] for i, labels in enumerate(y_pred, start=1)]\n",
        "print(tabulate(table, headers=headers, tablefmt='grid'))\n",
        "print(pred_ensemble)\n",
        "# Calculate and print the accuracy\n",
        "accuracy_ensemble = ensemble_model.score(X_test, y_test)\n",
        "print('Accuracy of the Ensemble Model on test set: {:.3f}'.format(accuracy_ensemble))\n",
        "\n",
        "# Generate and print the classification report\n",
        "print(classification_report(y_test, pred_ensemble))"
      ]
    },
    {
      "cell_type": "code",
      "execution_count": null,
      "metadata": {
        "colab": {
          "base_uri": "https://localhost:8080/"
        },
        "id": "Vv7IIViF7aqV",
        "outputId": "8ec65d19-b9b7-47bc-ea56-67a31606a064"
      },
      "outputs": [],
      "source": [
        "from sklearn.svm import SVC\n",
        "from sklearn.metrics import classification_report\n",
        "\n",
        "# Create an SVM classifier\n",
        "svm_classifier = SVC(kernel='rbf', C=1.0, random_state=10)\n",
        "\n",
        "# Fit the SVM model to the training data\n",
        "svm_classifier.fit(X_train, y_train)\n",
        "\n",
        "# Make predictions on the test set\n",
        "pred_svm = svm_classifier.predict(X_test)\n",
        "\n",
        "\n",
        "# Calculate and print the accuracy\n",
        "accuracy_svm = svm_classifier.score(X_test, y_test)\n",
        "print('Accuracy of the SVM on test set: {:.3f}'.format(accuracy_svm))\n",
        "\n",
        "# Generate and print the classification report\n",
        "print(classification_report(y_test, pred_svm))"
      ]
    },
    {
      "cell_type": "code",
      "execution_count": null,
      "metadata": {},
      "outputs": [],
      "source": [
        "from tabulate import tabulate\n",
        "y_pred = svm_classifier.predict(X_test)\n",
        "headers = ['Index', 'Predicted Label']\n",
        "table = [[i, labels] for i, labels in enumerate(y_pred, start=1)]\n",
        "print(tabulate(table, headers=headers, tablefmt='grid'))"
      ]
    },
    {
      "cell_type": "code",
      "execution_count": null,
      "metadata": {
        "colab": {
          "base_uri": "https://localhost:8080/"
        },
        "id": "Kao4rdOh7smc",
        "outputId": "b66ef4bf-1aee-46bf-9739-37566b45e1c1"
      },
      "outputs": [],
      "source": [
        "from sklearn.ensemble import GradientBoostingClassifier\n",
        "from sklearn.svm import SVC\n",
        "from sklearn.ensemble import VotingClassifier\n",
        "from sklearn.metrics import classification_report\n",
        "\n",
        "# Define the GBM model\n",
        "gbm_model = GradientBoostingClassifier(\n",
        "    learning_rate=0.1,\n",
        "    n_estimators=100,\n",
        "    max_depth=3,\n",
        "    min_samples_split=2,\n",
        "    min_samples_leaf=1,\n",
        "    subsample=1,\n",
        "    max_features='sqrt',\n",
        "    random_state=10\n",
        ")\n",
        "\n",
        "# Define the SVM model\n",
        "svm_model = SVC(probability=True, random_state=10)  # Use probability=True to enable soft voting\n",
        "\n",
        "# Create an ensemble of models\n",
        "ensemble_model = VotingClassifier(\n",
        "    estimators=[\n",
        "        ('gbm', gbm_model),\n",
        "        ('svm', svm_model),\n",
        "        ('lgbm', LGBMClassifier())\n",
        "    ],\n",
        "    voting='soft'  # 'soft' for weighted voting based on probabilities\n",
        ")\n",
        "\n",
        "# Fit the ensemble model on the training data\n",
        "ensemble_model.fit(X_train, y_train)\n",
        "\n",
        "# Make predictions on the test set\n",
        "pred_ensemble = ensemble_model.predict(X_test)\n",
        "\n",
        "# Calculate and print the accuracy\n",
        "accuracy_ensemble = ensemble_model.score(X_test, y_test)\n",
        "print('Accuracy of the Ensemble Model on test set: {:.3f}'.format(accuracy_ensemble))\n",
        "\n",
        "# Generate and print the classification report\n",
        "print(classification_report(y_test, pred_ensemble))\n"
      ]
    },
    {
      "cell_type": "markdown",
      "metadata": {
        "id": "0wph2B0C74KA"
      },
      "source": [
        "# **Tuning of Models**\n"
      ]
    },
    {
      "cell_type": "markdown",
      "metadata": {
        "id": "ROwtg1t174SQ"
      },
      "source": [
        "\n",
        "n_estimators and Learning Rate¶"
      ]
    },
    {
      "cell_type": "code",
      "execution_count": null,
      "metadata": {
        "id": "o1aGk5oD7-Jf"
      },
      "outputs": [],
      "source": [
        "p_test3 = {'learning_rate':[0.15,0.1,0.05,0.01,0.005,0.001], 'n_estimators':[50,100,250,500,750,1000,1250,1500,1750]}\n",
        "\n",
        "tuning = GridSearchCV(estimator =GradientBoostingClassifier(max_depth=4, min_samples_split=2, min_samples_leaf=1,\n",
        "                                                            subsample=1,max_features='sqrt', random_state=10),\n",
        "                                                            param_grid = p_test3, scoring='accuracy',n_jobs=4,\n",
        "                                                             cv=5)\n",
        "tuning.fit(X_train,y_train)\n",
        "tuning.best_params_, tuning.best_score_\n",
        "learning_rate_gbm = tuning.best_params_.get(\"learning_rate\")\n",
        "n_estimators_gbm = tuning.best_params_.get(\"n_estimators\")"
      ]
    },
    {
      "cell_type": "code",
      "execution_count": null,
      "metadata": {
        "colab": {
          "base_uri": "https://localhost:8080/"
        },
        "id": "GMEtcLtG8EGZ",
        "outputId": "ba3d8702-2415-47c8-b7c0-25849b96360f"
      },
      "outputs": [],
      "source": [
        "p_test3a = {'learning_rate':[0.15,0.1,0.05,0.01,0.005,0.001], 'n_estimators':[50,100,250,500,750,1000,1250,1500,1750]}\n",
        "\n",
        "tuning = GridSearchCV(estimator =LGBMClassifier(max_depth=4, min_samples_leaf=1,\n",
        "                                                subsample=1, random_state=10),\n",
        "                                                param_grid = p_test3a, scoring='accuracy',n_jobs=4,\n",
        "                                                cv=5)\n",
        "tuning.fit(X_train,y_train)\n",
        "tuning.best_params_, tuning.best_score_\n",
        "learning_rate_lgbm = tuning.best_params_.get(\"learning_rate\")\n",
        "n_estimators_lgbm = tuning.best_params_.get(\"n_estimators\")"
      ]
    },
    {
      "cell_type": "markdown",
      "metadata": {
        "id": "5SjYD1tkBHhz"
      },
      "source": [
        "Max depth"
      ]
    },
    {
      "cell_type": "code",
      "execution_count": null,
      "metadata": {
        "id": "h35WT2An_XgH"
      },
      "outputs": [],
      "source": [
        "p_test2 = {'max_depth':[2,3,4,5,6,7] }\n",
        "tuning = GridSearchCV(estimator =GradientBoostingClassifier(learning_rate=learning_rate_gbm,n_estimators=n_estimators_gbm,\n",
        "                                                            min_samples_split=2,\n",
        "                                                            min_samples_leaf=1, subsample=1,max_features='sqrt',\n",
        "                                                            random_state=10),\n",
        "                                                            param_grid = p_test2, scoring='accuracy',n_jobs=4,\n",
        "                                                            cv=5)\n",
        "tuning.fit(X_train,y_train)\n",
        "tuning.best_params_, tuning.best_score_\n",
        "max_depth_gbm = tuning.best_params_.get(\"max_depth\")"
      ]
    },
    {
      "cell_type": "code",
      "execution_count": null,
      "metadata": {
        "colab": {
          "base_uri": "https://localhost:8080/"
        },
        "id": "Aucu5g2k_jkY",
        "outputId": "6abfdf10-44e9-466b-806d-172eec95580d"
      },
      "outputs": [],
      "source": [
        "p_test2a = {'max_depth':[2,3,4,5,6,7] }\n",
        "tuning = GridSearchCV(estimator =LGBMClassifier(learning_rate=learning_rate_lgbm,n_estimators=n_estimators_lgbm,\n",
        "                                                min_samples_leaf=1, subsample=1, random_state=10),\n",
        "                                                param_grid = p_test2, scoring='accuracy',n_jobs=4,\n",
        "                                                cv=5)\n",
        "tuning.fit(X_train,y_train)\n",
        "tuning.best_params_, tuning.best_score_\n",
        "max_depth_lgbm = tuning.best_params_.get(\"max_depth\")"
      ]
    },
    {
      "cell_type": "code",
      "execution_count": null,
      "metadata": {
        "id": "nQcyeyfzARUl"
      },
      "outputs": [],
      "source": []
    },
    {
      "cell_type": "markdown",
      "metadata": {
        "id": "-QRQlWsLAn71"
      },
      "source": [
        "First Evaluation of New Model on Test Set"
      ]
    },
    {
      "cell_type": "code",
      "execution_count": null,
      "metadata": {
        "colab": {
          "base_uri": "https://localhost:8080/"
        },
        "id": "HC3ZaidTAodE",
        "outputId": "f4aa74a6-74ec-438b-cd96-d1b7e53cbceb"
      },
      "outputs": [],
      "source": [
        "model1 = GradientBoostingClassifier(learning_rate=learning_rate_gbm, n_estimators=n_estimators_gbm,max_depth=max_depth_gbm,\n",
        "                                    min_samples_split=2,\n",
        "                                    min_samples_leaf=1, subsample=1,max_features='sqrt', random_state=10)\n",
        "model1.fit(X_train,y_train)\n",
        "predictors=list(X_train)\n",
        "print('Accuracy of the GBM on test set: {:.3f}'.format(model1.score(X_test, y_test)))\n",
        "pred=model1.predict(X_test)\n",
        "print(classification_report(y_test, pred))"
      ]
    },
    {
      "cell_type": "code",
      "execution_count": null,
      "metadata": {
        "colab": {
          "base_uri": "https://localhost:8080/"
        },
        "id": "vT-bSB5UAqIc",
        "outputId": "c24df112-43bf-4b01-b624-3e717511113b"
      },
      "outputs": [],
      "source": [
        "model1_lgbm = LGBMClassifier(learning_rate=learning_rate_lgbm, n_estimators=n_estimators_lgbm,max_depth=max_depth_lgbm,\n",
        "                             min_samples_leaf=1, subsample=1, random_state=10)\n",
        "model1_lgbm.fit(X_train,y_train)\n",
        "predictors=list(X_train)\n",
        "print('Accuracy of the LGBM on test set: {:.3f}'.format(model1_lgbm.score(X_test, y_test)))\n",
        "pred=model1_lgbm.predict(X_test)\n",
        "print(classification_report(y_test, pred))"
      ]
    },
    {
      "cell_type": "markdown",
      "metadata": {
        "id": "o3nAlNflBgPc"
      },
      "source": [
        "## **Min Sample Split and Min Samples Leaf**"
      ]
    },
    {
      "cell_type": "code",
      "execution_count": null,
      "metadata": {
        "id": "tfeOeXBIAsJ5"
      },
      "outputs": [],
      "source": [
        "p_test4 = {'min_samples_split':[2,4,6,8,10,20,40,60,100], 'min_samples_leaf':[1,3,5,7,9]}\n",
        "\n",
        "tuning = GridSearchCV(estimator =GradientBoostingClassifier(learning_rate=learning_rate_gbm, n_estimators=n_estimators_gbm,\n",
        "                                                            max_depth=max_depth_gbm,\n",
        "                                                            subsample=1,max_features='sqrt', random_state=10),\n",
        "                                                            param_grid = p_test4, scoring='accuracy',n_jobs=4,\n",
        "                                                            cv=5)\n",
        "tuning.fit(X_train,y_train)\n",
        "tuning.best_params_, tuning.best_score_\n",
        "min_samples_leaf_gbm = tuning.best_params_.get(\"min_samples_leaf\")"
      ]
    },
    {
      "cell_type": "code",
      "execution_count": null,
      "metadata": {
        "id": "qqhBv1dmBj5w"
      },
      "outputs": [],
      "source": [
        "p_test4a = {'min_samples_leaf':[1,3,5,7,9]}\n",
        "\n",
        "tuning = GridSearchCV(estimator =LGBMClassifier(learning_rate=learning_rate_lgbm, n_estimators=n_estimators_lgbm,\n",
        "                                                max_depth=max_depth_lgbm,\n",
        "                                                subsample=1, random_state=10),\n",
        "                                                param_grid = p_test4a, scoring='accuracy',n_jobs=4,\n",
        "                                                cv=5)\n",
        "tuning.fit(X_train,y_train)\n",
        "tuning.best_params_, tuning.best_score_\n",
        "min_samples_leaf_lgbm = tuning.best_params_.get(\"min_samples_leaf\")"
      ]
    },
    {
      "cell_type": "markdown",
      "metadata": {
        "id": "bzhEC8tkB6Sr"
      },
      "source": [
        "Max Features"
      ]
    },
    {
      "cell_type": "code",
      "execution_count": null,
      "metadata": {
        "id": "mTIy5r--B6vp"
      },
      "outputs": [],
      "source": [
        "p_test5 = {'max_features':[2,3,4,5,6,7]}\n",
        "tuning = GridSearchCV(estimator =GradientBoostingClassifier(learning_rate=learning_rate_gbm, n_estimators=n_estimators_gbm,\n",
        "                                                            max_depth=max_depth_gbm,\n",
        "                                                            min_samples_split=20, min_samples_leaf=min_samples_leaf_gbm,\n",
        "                                                            subsample=1,\n",
        "                                                            random_state=10), param_grid = p_test5, scoring='accuracy',\n",
        "                                                            n_jobs=4, cv=5)\n",
        "tuning.fit(X_train,y_train)\n",
        "tuning.best_params_, tuning.best_score_\n",
        "max_features_gbm = tuning.best_params_.get(\"max_features\")"
      ]
    },
    {
      "cell_type": "markdown",
      "metadata": {
        "id": "2d3sUw3xCADU"
      },
      "source": [
        "Subsample"
      ]
    },
    {
      "cell_type": "code",
      "execution_count": null,
      "metadata": {
        "id": "feBMVXElCB7N"
      },
      "outputs": [],
      "source": [
        "p_test6= {'subsample':[0.7,0.75,0.8,0.85,0.9,0.95,1]}\n",
        "\n",
        "tuning = GridSearchCV(estimator =GradientBoostingClassifier(learning_rate=learning_rate_gbm, n_estimators=n_estimators_gbm,\n",
        "                                                            max_depth=max_depth_gbm,\n",
        "                                                            min_samples_split=20, min_samples_leaf=min_samples_leaf_gbm,\n",
        "                                                            max_features=max_features_gbm ,\n",
        "                                                            random_state=10), param_grid = p_test6, scoring='accuracy',\n",
        "                                                            n_jobs=4, cv=5)\n",
        "tuning.fit(X_train,y_train)\n",
        "tuning.best_params_, tuning.best_score_\n",
        "subsample_gbm = tuning.best_params_.get(\"subsample\")"
      ]
    },
    {
      "cell_type": "code",
      "execution_count": null,
      "metadata": {
        "id": "UdBV22LiCFKo"
      },
      "outputs": [],
      "source": [
        "p_test6a= {'subsample':[0.7,0.75,0.8,0.85,0.9,0.95,1]}\n",
        "\n",
        "tuning = GridSearchCV(estimator =LGBMClassifier(learning_rate=learning_rate_lgbm, n_estimators=n_estimators_lgbm,\n",
        "                                                max_depth=max_depth_lgbm,\n",
        "                                                min_samples_leaf=min_samples_leaf_lgbm,\n",
        "                                                random_state=10), param_grid = p_test6, scoring='accuracy',\n",
        "                                                n_jobs=4, cv=5)\n",
        "tuning.fit(X_train,y_train)\n",
        "tuning.best_params_, tuning.best_score_\n",
        "subsample_lgbm = tuning.best_params_.get(\"subsample\")"
      ]
    },
    {
      "cell_type": "code",
      "execution_count": null,
      "metadata": {
        "id": "bEbQsovICwqp"
      },
      "outputs": [],
      "source": []
    },
    {
      "cell_type": "markdown",
      "metadata": {
        "id": "Ofjxbg57ktl0"
      },
      "source": [
        "random_state"
      ]
    },
    {
      "cell_type": "code",
      "execution_count": null,
      "metadata": {
        "id": "e3nj6QmekuB8"
      },
      "outputs": [],
      "source": [
        "p_test7= {'random_state':list(range(0,101,2))}\n",
        "\n",
        "tuning = GridSearchCV(estimator =GradientBoostingClassifier(learning_rate=learning_rate_gbm, n_estimators=n_estimators_gbm,\n",
        "                                                            max_depth=max_depth_gbm,\n",
        "                                                            min_samples_split=20, min_samples_leaf=min_samples_leaf_gbm,\n",
        "                                                            max_features=max_features_gbm ,\n",
        "                                                            subsample=subsample_gbm), param_grid = p_test7,\n",
        "                                                            scoring='accuracy',\n",
        "                                                            n_jobs=4, cv=6)\n",
        "tuning.fit(X_train,y_train)\n",
        "tuning.best_params_, tuning.best_score_\n",
        "random_state_gbm = tuning.best_params_.get(\"random_state\")"
      ]
    },
    {
      "cell_type": "code",
      "execution_count": null,
      "metadata": {
        "id": "47DyKESKkxHJ"
      },
      "outputs": [],
      "source": [
        "p_test7a= {'random_state':list(range(0,101,2))}\n",
        "\n",
        "tuning = GridSearchCV(estimator =LGBMClassifier(learning_rate=learning_rate_lgbm, n_estimators=n_estimators_lgbm,\n",
        "                                                max_depth=max_depth_lgbm, min_samples_leaf=min_samples_leaf_lgbm,\n",
        "                                                subsample=subsample_lgbm), param_grid = p_test7a, scoring='accuracy',\n",
        "                                                n_jobs=4, cv=8)\n",
        "tuning.fit(X_train,y_train)\n",
        "tuning.best_params_, tuning.best_score_\n",
        "random_state_lgbm = tuning.best_params_.get(\"random_state\")"
      ]
    },
    {
      "cell_type": "code",
      "execution_count": null,
      "metadata": {
        "id": "wpRLRCHxmpuG"
      },
      "outputs": [],
      "source": []
    },
    {
      "cell_type": "markdown",
      "metadata": {
        "id": "fza7jWBzngGG"
      },
      "source": [
        "Optimal Parameters"
      ]
    },
    {
      "cell_type": "code",
      "execution_count": null,
      "metadata": {
        "id": "NNQ1LcDCnho-"
      },
      "outputs": [],
      "source": [
        "a1 = []\n",
        "a2 = []\n",
        "a3 = []\n",
        "a4 = []\n",
        "a5 = []\n",
        "a6 = []\n",
        "a7 = []\n",
        "a8 = []"
      ]
    },
    {
      "cell_type": "code",
      "execution_count": null,
      "metadata": {
        "id": "3k-u5T9KniNc"
      },
      "outputs": [],
      "source": [
        "a1.append('GBM')\n",
        "a2.append(learning_rate_gbm)\n",
        "a3.append(n_estimators_gbm)\n",
        "a4.append(max_depth_gbm)\n",
        "a5.append(min_samples_leaf_gbm)\n",
        "a6.append(max_features_gbm)\n",
        "a7.append(subsample_gbm)\n",
        "a8.append(random_state_gbm)\n",
        "\n",
        "opt_par = pd.DataFrame({'Name': a1, 'learning_rate': a2, 'n_estimators': a3,\n",
        "                         'max_depth': a4, 'min_samples_leaf': a5, 'max_features': a6,\n",
        "                         'subsample_gbm': a7, 'random_state': a8})"
      ]
    },
    {
      "cell_type": "code",
      "execution_count": null,
      "metadata": {
        "id": "bae_iBGgnoeZ"
      },
      "outputs": [],
      "source": [
        "a1.append('LGBM')\n",
        "a2.append(learning_rate_lgbm)\n",
        "a3.append(n_estimators_lgbm)\n",
        "a4.append(max_depth_lgbm)\n",
        "a5.append(min_samples_leaf_lgbm)\n",
        "a6.append(max_features_gbm)\n",
        "a7.append(subsample_lgbm)\n",
        "a8.append(random_state_lgbm)\n",
        "\n",
        "opt_par = pd.DataFrame({'Name': a1, 'learning_rate': a2, 'n_estimators': a3,\n",
        "                         'max_depth': a4, 'min_samples_leaf': a5, 'max_features': a6,\n",
        "                         'subsample_gbm': a7, 'random_state': a8})"
      ]
    },
    {
      "cell_type": "code",
      "execution_count": null,
      "metadata": {
        "id": "rXO0n5MvnsSG"
      },
      "outputs": [],
      "source": [
        "opt_par"
      ]
    },
    {
      "cell_type": "code",
      "execution_count": null,
      "metadata": {
        "id": "zX5706pYnu75"
      },
      "outputs": [],
      "source": []
    },
    {
      "cell_type": "markdown",
      "metadata": {
        "id": "VwTz-cbwoPBW"
      },
      "source": [
        "# Evaluation of Final Model on Test Set"
      ]
    },
    {
      "cell_type": "code",
      "execution_count": null,
      "metadata": {
        "id": "D-1FmMocoQ-t"
      },
      "outputs": [],
      "source": [
        "new=GradientBoostingClassifier(learning_rate=learning_rate_gbm, n_estimators=n_estimators_gbm,\n",
        "                               max_depth=max_depth_gbm, min_samples_split=20, min_samples_leaf=min_samples_leaf_gbm,\n",
        "                               max_features=max_features_gbm, subsample=subsample_gbm, random_state=random_state_gbm)\n",
        "new.fit(X_train,y_train)\n",
        "predictors=list(X_train)\n",
        "print('Accuracy of the GBM on test set: {:.3f}'.format(new.score(X_test, y_test)))\n",
        "pred=new.predict(X_test)\n",
        "\n",
        "print(classification_report(y_test, pred)) "
      ]
    },
    {
      "cell_type": "code",
      "execution_count": null,
      "metadata": {
        "id": "PLrHrXCjoUGT"
      },
      "outputs": [],
      "source": [
        "new_lgbm=LGBMClassifier(learning_rate=learning_rate_lgbm, n_estimators=n_estimators_lgbm,max_depth=max_depth_lgbm,\n",
        "                        min_samples_leaf=min_samples_leaf_lgbm, subsample=subsample_lgbm, random_state=random_state_lgbm)\n",
        "new_lgbm.fit(X_train,y_train)\n",
        "predictors=list(X_train)\n",
        "print('Accuracy of the LGBM on test set: {:.3f}'.format(new_lgbm.score(X_test, y_test)))\n",
        "pred=new_lgbm.predict(X_test)\n",
        "print(classification_report(y_test, pred))"
      ]
    },
    {
      "cell_type": "code",
      "execution_count": null,
      "metadata": {
        "id": "MIubNwglocDR"
      },
      "outputs": [],
      "source": []
    },
    {
      "cell_type": "markdown",
      "metadata": {
        "id": "JZSStnMZokOq"
      },
      "source": [
        "#Comparison of ROC AUC"
      ]
    },
    {
      "cell_type": "code",
      "execution_count": null,
      "metadata": {
        "id": "zlGv1kziomCD"
      },
      "outputs": [],
      "source": [
        "from sklearn import metrics\n",
        "from sklearn.metrics import roc_auc_score\n",
        "from sklearn.metrics import roc_curve\n",
        "\n",
        "#run models\n",
        "baseline = GradientBoostingClassifier(learning_rate=0.1, n_estimators=100,max_depth=3, min_samples_split=2,\n",
        "                                      min_samples_leaf=1, subsample=1,max_features='sqrt', random_state=10)\n",
        "baseline.fit(X_train,y_train)\n",
        "\n",
        "model1 = GradientBoostingClassifier(learning_rate=learning_rate_gbm, n_estimators=n_estimators_gbm,max_depth=max_depth_gbm,\n",
        "                                    min_samples_split=2,\n",
        "                                    min_samples_leaf=1, subsample=1,max_features='sqrt', random_state=10)\n",
        "model1.fit(X_train,y_train)\n",
        "\n",
        "new=GradientBoostingClassifier(learning_rate=learning_rate_gbm, n_estimators=n_estimators_gbm,\n",
        "                               max_depth=max_depth_gbm, min_samples_split=20, min_samples_leaf=min_samples_leaf_gbm,\n",
        "                               max_features=max_features_gbm, subsample=subsample_gbm, random_state=random_state_gbm)\n",
        "new.fit(X_train,y_train)\n",
        "\n",
        "#baseline model\n",
        "baseline_roc_auc = roc_auc_score(y_test, baseline.predict(X_test))\n",
        "fprB, tprB, thresholdsB = roc_curve(y_test, baseline.predict_proba(X_test)[:,1])\n",
        "#model 1\n",
        "# model1_roc_auc = roc_auc_score(y_test, model1.predict(X_test))\n",
        "# fpr1, tpr1, thresholds1 = roc_curve(y_test, model1.predict_proba(X_test)[:,1])\n",
        "#new tuned model\n",
        "new_roc_auc = roc_auc_score(y_test, new.predict(X_test))\n",
        "fprnew, tprnew, thresholds_new = roc_curve(y_test, new.predict_proba(X_test)[:,1])\n",
        "\n",
        "plt.figure()\n",
        "plt.plot(fprB, tprB, label='GBM Baseline (area = %0.2f)' % baseline_roc_auc)\n",
        "#plt.plot(fpr1, tpr1, label='GBM Model 1 (area = %0.2f)' % model1_roc_auc)\n",
        "plt.plot(fprnew, tprnew, label='GBM Final Model (area = %0.2f)' % new_roc_auc)\n",
        "\n",
        "plt.plot([0, 1], [0, 1],'r--')\n",
        "plt.xlim([0.0, 1.0])\n",
        "plt.ylim([0.0, 1.05])\n",
        "plt.xlabel('False Positive Rate')\n",
        "plt.ylabel('True Positive Rate')\n",
        "plt.title('Receiver Operating Characteristic of GBM')\n",
        "plt.legend(loc=\"lower right\")\n",
        "plt.savefig('Log_ROC')\n",
        "plt.show()\n",
        "\n",
        "plt.savefig('roc1.eps', format='eps')\n"
      ]
    },
    {
      "cell_type": "code",
      "execution_count": null,
      "metadata": {
        "id": "N68E3-wAotcG"
      },
      "outputs": [],
      "source": [
        "print('Accuracy of the GBM on test set for Baseline Model: {:.3f}'.format(baseline.score(X_test, y_test)))\n",
        "print('Accuracy of the GBM on test set for New Model: {:.3f}'.format(new.score(X_test, y_test)))"
      ]
    },
    {
      "cell_type": "code",
      "execution_count": null,
      "metadata": {
        "id": "5Z9Njn2Ko1dY"
      },
      "outputs": [],
      "source": [
        "#run models\n",
        "baseline_lgbm = LGBMClassifier(learning_rate=0.1, n_estimators=100,max_depth=3,\n",
        "                               min_samples_leaf=1, subsample=1, random_state=10)\n",
        "baseline_lgbm.fit(X_train,y_train)\n",
        "\n",
        "model1_lgbm = LGBMClassifier(learning_rate=learning_rate_lgbm, n_estimators=n_estimators_lgbm,max_depth=max_depth_lgbm,\n",
        "                             min_samples_leaf=1, subsample=1, random_state=10)\n",
        "model1_lgbm.fit(X_train,y_train)\n",
        "\n",
        "new_lgbm=LGBMClassifier(learning_rate=learning_rate_lgbm, n_estimators=n_estimators_lgbm,max_depth=max_depth_lgbm,\n",
        "                        min_samples_leaf=min_samples_leaf_lgbm, subsample=subsample_lgbm, random_state=random_state_lgbm)\n",
        "new_lgbm.fit(X_train,y_train)\n",
        "\n",
        "#calculate values for ROC AUC plot\n",
        "#baseline model\n",
        "baseline_lgbm_roc_auc = roc_auc_score(y_test, baseline_lgbm.predict(X_test))\n",
        "fprB, tprB, thresholdsB = roc_curve(y_test, baseline_lgbm.predict_proba(X_test)[:,1])\n",
        "#model 1\n",
        "# model1_lgbm_roc_auc = roc_auc_score(y_test, model1_lgbm.predict(X_test))\n",
        "# fpr1, tpr1, thresholds1 = roc_curve(y_test, model1_lgbm.predict_proba(X_test)[:,1])\n",
        "#new tuned model\n",
        "new_lgbm_roc_auc = roc_auc_score(y_test, new_lgbm.predict(X_test))\n",
        "fprnew, tprnew, thresholds_new = roc_curve(y_test, new_lgbm.predict_proba(X_test)[:,1])\n",
        "\n",
        "plt.figure()\n",
        "plt.plot(fprB, tprB, label='LGBM Baseline (area = %0.2f)' % baseline_roc_auc)\n",
        "#plt.plot(fpr1, tpr1, label='LGBM Model 1 (area = %0.2f)' % model1_roc_auc)\n",
        "plt.plot(fprnew, tprnew, label='LGBM Final Model (area = %0.2f)' % new_roc_auc)\n",
        "\n",
        "plt.plot([0, 1], [0, 1],'r--')\n",
        "plt.xlim([0.0, 1.0])\n",
        "plt.ylim([0.0, 1.05])\n",
        "plt.xlabel('False Positive Rate')\n",
        "plt.ylabel('True Positive Rate')\n",
        "plt.title('Receiver Operating Characteristic of LGBM')\n",
        "plt.legend(loc=\"lower right\")\n",
        "plt.savefig('Log_ROC')\n",
        "plt.show()\n",
        "\n",
        "plt.savefig('roc2.eps', format='eps')"
      ]
    },
    {
      "cell_type": "code",
      "execution_count": null,
      "metadata": {
        "id": "p0Mdwa6ho73m"
      },
      "outputs": [],
      "source": [
        "print('Accuracy of the LGBM on test set for Baseline Model: {:.3f}'.format(baseline_lgbm.score(X_test, y_test)))\n",
        "print('Accuracy of the LGBM on test set for Model1: {:.3f}'.format(model1_lgbm.score(X_test, y_test)))\n",
        "print('Accuracy of the LGBM on test set for New Model: {:.3f}'.format(new_lgbm.score(X_test, y_test)))"
      ]
    }
  ],
  "metadata": {
    "colab": {
      "provenance": []
    },
    "kernelspec": {
      "display_name": "Python 3",
      "name": "python3"
    },
    "language_info": {
      "codemirror_mode": {
        "name": "ipython",
        "version": 3
      },
      "file_extension": ".py",
      "mimetype": "text/x-python",
      "name": "python",
      "nbconvert_exporter": "python",
      "pygments_lexer": "ipython3",
      "version": "3.9.13"
    }
  },
  "nbformat": 4,
  "nbformat_minor": 0
}
